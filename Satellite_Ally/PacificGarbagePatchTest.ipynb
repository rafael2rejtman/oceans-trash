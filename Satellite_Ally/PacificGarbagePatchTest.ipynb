{
 "cells": [
  {
   "cell_type": "markdown",
   "metadata": {},
   "source": [
    "# Classifying locations of trash in the ocean\n",
    "\n",
    "Natebook showcases an example Earth observation processing chain that determines water levels of any water body (dam, reservoir, lake, ...) from satellite imagery. The entire processing chain is performed using the `eo-learn` library. The user simply needs to provide a polygon with water body's nominal water extent."
   ]
  },
  {
   "cell_type": "code",
   "execution_count": 19,
   "metadata": {
    "collapsed": true
   },
   "outputs": [],
   "source": [
    "%reload_ext autoreload\n",
    "%autoreload 2\n",
    "%matplotlib inline"
   ]
  },
  {
   "cell_type": "code",
   "execution_count": 20,
   "metadata": {
    "collapsed": true
   },
   "outputs": [],
   "source": [
    "INSTANCE_ID = 'e17af174-292a-4aa8-a342-143f1dd5244c'"
   ]
  },
  {
   "cell_type": "markdown",
   "metadata": {},
   "source": [
    "#### Imports - eolearn "
   ]
  },
  {
   "cell_type": "code",
   "execution_count": 21,
   "metadata": {
    "collapsed": true
   },
   "outputs": [],
   "source": [
    "from eolearn.core import EOTask, EOPatch, EOWorkflow, Dependency, FeatureType\n",
    "\n",
    "# We'll use Sentinel-2 imagery (Level 1C) provided through SentinelHub\n",
    "# If you don't know what `Level 1C` means, don't worry. It doesn't matter.\n",
    "from eolearn.io import S2L1CWCSInput \n",
    "from eolearn.core import LoadFromDisk, SaveToDisk\n",
    "\n",
    "# cloud detection\n",
    "from eolearn.mask import AddCloudMaskTask, get_s2_pixel_cloud_detector\n",
    "from eolearn.mask import AddValidDataMaskTask\n",
    "\n",
    "# filtering of scenes\n",
    "from eolearn.features import SimpleFilterTask\n",
    "\n",
    "# burning the vectorised polygon to raster\n",
    "from eolearn.geometry import VectorToRaster"
   ]
  },
  {
   "cell_type": "markdown",
   "metadata": {},
   "source": [
    "#### Imports - other "
   ]
  },
  {
   "cell_type": "code",
   "execution_count": 22,
   "metadata": {
    "collapsed": true
   },
   "outputs": [],
   "source": [
    "# The golden standard: numpy and matplotlib\n",
    "import numpy as np\n",
    "\n",
    "import matplotlib\n",
    "import matplotlib.pyplot as plt\n",
    "from mpl_toolkits.axes_grid1 import make_axes_locatable\n",
    "\n",
    "# For manipulating geo-spatial vector dataset (polygons of nominal water extent)\n",
    "import geopandas as gpd\n",
    "\n",
    "# Image manipulations\n",
    "# Our water detector is going to be based on a simple threshold \n",
    "# of Normalised Difference Water Index (NDWI) grayscale image\n",
    "from skimage.filters import threshold_otsu\n",
    "\n",
    "# Loading polygon of nominal water extent\n",
    "from shapely.wkt import loads\n",
    "from shapely.geometry import Polygon\n",
    "\n",
    "# Sentinel Hub\n",
    "from sentinelhub import BBox, CRS\n",
    "\n",
    "#for BBoxSplitting\n",
    "import os\n",
    "from sentinelhub import BBoxSplitter, BBox, CRS, DataSource, transform_bbox\n",
    "from pathlib import Path\n",
    "\n",
    "import pandas as pd"
   ]
  },
  {
   "cell_type": "code",
   "execution_count": 23,
   "metadata": {
    "collapsed": false
   },
   "outputs": [],
   "source": [
    "# from shapely.geometry import Point\n",
    "# \"\"\"The Great Pacific garbage patch, also described as the Pacific trash vortex, \n",
    "# is a gyre of marine debris particles in the central North Pacific Ocean located \n",
    "# roughly between 135°W to 155°W and 35°N and 42°N.\"\"\"\n",
    "# p1 = Point(35,-135)\n",
    "# p2 = Point(35,-155)\n",
    "# p3 = Point(42,-135)\n",
    "# p4 = Point(42,-155)\n",
    "\n",
    "# pointList = [p1, p2, p3, p4, p1]\n",
    "\n",
    "# poly = Polygon([[p.x, p.y] for p in pointList])\n",
    "\n",
    "# print(poly.wkt)  # prints: 'POLYGON ((35 -135, 35 -155, 42 -135, 42 -155, 35 -135))'"
   ]
  },
  {
   "cell_type": "markdown",
   "metadata": {},
   "source": [
    "## Water level extraction EOWorkflow\n",
    "\n",
    "Our basic logic of the example workflow is:\n",
    "1. Download all available Sentinel-2 sattelite imagery of Theewaterskloof Dam from beginning of 2016 and today\n",
    "    * the following *layers* will be downloaded:\n",
    "        * `TRUE_COLOR` for nicer visualisations\n",
    "        * `NDWI` for water detection\n",
    "2. Clouds are very often obscuring the view of the ground. In order to correctly determine the water level of the dam all images with clouds need to be filtered out.\n",
    "4. Apply adaptive thresholding to `NDWI` grayscale images\n",
    "5. Extract water level from a comparison of measured water extent from step 4. with the nominal one\n",
    "\n",
    "Each step in the above overview of the workflow is accomplished by adding an `EOTask` to the `EOWorkflow`"
   ]
  },
  {
   "cell_type": "markdown",
   "metadata": {},
   "source": [
    "#### Load the Polygon of nominal water extent and define a BBOX\n",
    "\n",
    "The BBOX defines an area of interest and will be used to create an EOPatch."
   ]
  },
  {
   "cell_type": "code",
   "execution_count": 24,
   "metadata": {
    "collapsed": false
   },
   "outputs": [],
   "source": [
    "# The polygon of the dam is written in wkt format (CRS=WGS84)\n",
    "# with open('theewaterskloof_dam_nominal.wkt','r') as f:\n",
    "#     dam_wkt = f.read()\n",
    "\n",
    "# dam_nominal = loads(dam_wkt)\n",
    "#dam_nominal = loads(poly.wkt)\n",
    "\n",
    "with open('pacific_garbage_patch.wkt','r') as f:\n",
    "    patch_wkt = f.read()\n",
    "\n",
    "dam_nominal = loads(patch_wkt)\n",
    "\n",
    "# # inflate the BBOX \n",
    "# inflate_bbox = 0.1\n",
    "# minx, miny, maxx, maxy = dam_nominal.bounds\n",
    "# delx=maxx-minx\n",
    "# dely=maxy-miny\n",
    "\n",
    "# minx=minx-delx*inflate_bbox\n",
    "# maxx=maxx+delx*inflate_bbox\n",
    "# miny=miny-dely*inflate_bbox\n",
    "# maxy=maxy+dely*inflate_bbox\n",
    "    \n",
    "# dam_bbox = BBox(bbox=[minx, miny, maxx, maxy], crs=CRS.WGS84)"
   ]
  },
  {
   "cell_type": "code",
   "execution_count": 25,
   "metadata": {
    "collapsed": false
   },
   "outputs": [
    {
     "name": "stdout",
     "output_type": "stream",
     "text": [
      "<class 'shapely.geometry.polygon.Polygon'>\n"
     ]
    }
   ],
   "source": [
    "print(type(dam_nominal))"
   ]
  },
  {
   "cell_type": "code",
   "execution_count": 26,
   "metadata": {
    "collapsed": false
   },
   "outputs": [],
   "source": [
    "patch_crs = CRS.UTM_7N"
   ]
  },
  {
   "cell_type": "code",
   "execution_count": 27,
   "metadata": {
    "collapsed": false
   },
   "outputs": [
    {
     "data": {
      "text/plain": [
       "<CRS.UTM_7N: '32607'>"
      ]
     },
     "execution_count": 27,
     "metadata": {},
     "output_type": "execute_result"
    }
   ],
   "source": [
    "patch_crs.get_utm_from_wgs84(-143.5391237, 37.2609385)"
   ]
  },
  {
   "cell_type": "code",
   "execution_count": 28,
   "metadata": {
    "collapsed": true
   },
   "outputs": [],
   "source": [
    "from functools import partial\n",
    "import pyproj\n",
    "from shapely.ops import transform\n",
    "\n",
    "project = partial(\n",
    "    pyproj.transform,\n",
    "    pyproj.Proj(init='epsg:4326'), # source coordinate system\n",
    "    pyproj.Proj(init='epsg:32607')) # destination coordinate system\n",
    "\n",
    "dam_projected = transform(project, dam_nominal)  # apply projection"
   ]
  },
  {
   "cell_type": "code",
   "execution_count": 29,
   "metadata": {
    "collapsed": false,
    "scrolled": false
   },
   "outputs": [
    {
     "data": {
      "image/svg+xml": [
       "<svg xmlns=\"http://www.w3.org/2000/svg\" xmlns:xlink=\"http://www.w3.org/1999/xlink\" width=\"300\" height=\"300\" viewBox=\"228902.39490725507 4070122.4269755287 145125.87592219585 119191.89488615002\" preserveAspectRatio=\"xMinYMin meet\"><g transform=\"matrix(1,0,0,-1,0,8259436.748837207)\"><path fill-rule=\"evenodd\" fill=\"#66cc99\" stroke=\"#555555\" stroke-width=\"967.5058394813057\" opacity=\"0.6\" d=\"M 234277.42734881787,4138221.8495751475 L 251252.50028001657,4107630.367216517 L 265213.8400588044,4087686.1696264935 L 294371.16703952115,4078148.0220017754 L 325688.8102167874,4075497.4594170917 L 352303.7649831433,4083775.7400880484 L 368332.1743154292,4106882.2271582647 L 368653.2383878881,4132092.8103104886 L 363243.20387431385,4155360.687719754 L 340399.2858374949,4178065.197514626 L 293079.5368105977,4183939.2894201158 L 251798.94810843637,4163833.170783995 L 234277.42734881787,4138221.8495751475 z\" /></g></svg>"
      ],
      "text/plain": [
       "<shapely.geometry.polygon.Polygon at 0x1c3a4dfe48>"
      ]
     },
     "execution_count": 29,
     "metadata": {},
     "output_type": "execute_result"
    }
   ],
   "source": [
    "dam_projected"
   ]
  },
  {
   "cell_type": "code",
   "execution_count": 30,
   "metadata": {
    "collapsed": true
   },
   "outputs": [],
   "source": [
    "# # inflate the BBOX \n",
    "# inflate_bbox = 0.1\n",
    "# minx, miny, maxx, maxy = dam_projected.bounds\n",
    "# delx=maxx-minx\n",
    "# dely=maxy-miny\n",
    "\n",
    "# minx=minx-delx*inflate_bbox\n",
    "# maxx=maxx+delx*inflate_bbox\n",
    "# miny=miny-dely*inflate_bbox\n",
    "# maxy=maxy+dely*inflate_bbox\n",
    "    \n",
    "# dam_bbox = BBox(bbox=[minx, miny, maxx, maxy], crs=patch_crs)"
   ]
  },
  {
   "cell_type": "code",
   "execution_count": 31,
   "metadata": {
    "collapsed": false
   },
   "outputs": [
    {
     "data": {
      "text/plain": [
       "(234277.42734881787, 4075497.4594170917, 368653.2383878881, 4183939.2894201158)"
      ]
     },
     "execution_count": 31,
     "metadata": {},
     "output_type": "execute_result"
    }
   ],
   "source": [
    "dam_projected.bounds"
   ]
  },
  {
   "cell_type": "code",
   "execution_count": 32,
   "metadata": {
    "collapsed": false
   },
   "outputs": [],
   "source": [
    "# dam_bbox"
   ]
  },
  {
   "cell_type": "code",
   "execution_count": 33,
   "metadata": {
    "collapsed": false
   },
   "outputs": [
    {
     "name": "stdout",
     "output_type": "stream",
     "text": [
      "Dimension of the area is 134376 x 108442 m2\n"
     ]
    }
   ],
   "source": [
    "country_shape = dam_projected\n",
    "print('Dimension of the area is {0:.0f} x {1:.0f} m2'.format(country_shape.bounds[2]-country_shape.bounds[0],country_shape.bounds[3]-country_shape.bounds[1]))\n",
    "\n",
    "width_pix = int((country_shape.bounds[2]-country_shape.bounds[0])/10)\n",
    "height_pix = int((country_shape.bounds[3]-country_shape.bounds[1])/10)"
   ]
  },
  {
   "cell_type": "code",
   "execution_count": 34,
   "metadata": {
    "collapsed": false
   },
   "outputs": [
    {
     "name": "stdout",
     "output_type": "stream",
     "text": [
      "Dimension of the area is 13437 x 10844 pixels\n"
     ]
    }
   ],
   "source": [
    "print('Dimension of the area is {} x {} pixels'.format(width_pix, height_pix))\n"
   ]
  },
  {
   "cell_type": "code",
   "execution_count": 35,
   "metadata": {
    "collapsed": false
   },
   "outputs": [],
   "source": [
    "# dam_bbox"
   ]
  },
  {
   "cell_type": "code",
   "execution_count": 36,
   "metadata": {
    "collapsed": true
   },
   "outputs": [],
   "source": [
    "bbox_splitter = BBoxSplitter([country_shape], patch_crs, (14, 11))\n"
   ]
  },
  {
   "cell_type": "code",
   "execution_count": 37,
   "metadata": {
    "collapsed": false
   },
   "outputs": [
    {
     "name": "stdout",
     "output_type": "stream",
     "text": [
      "Area bounding box: BBox(((234277.42734881787, 4075497.4594170917), (368653.2383878881, 4183939.2894201158)), crs=EPSG:32607)\n",
      "\n"
     ]
    }
   ],
   "source": [
    "print('Area bounding box: {}\\n'.format(bbox_splitter.get_area_bbox().__repr__()))\n"
   ]
  },
  {
   "cell_type": "code",
   "execution_count": 38,
   "metadata": {
    "collapsed": false
   },
   "outputs": [
    {
     "name": "stdout",
     "output_type": "stream",
     "text": [
      "Each bounding box also has some info how it was created. Example:\n",
      "\n",
      "bbox: BBox(((234277.42734881787, 4114930.852145464), (243875.69956589432, 4124789.200327557)), crs=EPSG:32607)\n",
      "info: {'parent_bbox': BBox(((234277.42734881787, 4075497.4594170917), (368653.2383878881, 4183939.2894201158)), crs=EPSG:32607), 'index_x': 0, 'index_y': 4}\n",
      "\n"
     ]
    }
   ],
   "source": [
    "bbox_list = bbox_splitter.get_bbox_list()\n",
    "info_list = bbox_splitter.get_info_list()\n",
    "\n",
    "print('Each bounding box also has some info how it was created. Example:\\n'\n",
    "      '\\nbbox: {}\\ninfo: {}\\n'.format(bbox_list[0].__repr__(), info_list[0]))"
   ]
  },
  {
   "cell_type": "code",
   "execution_count": 39,
   "metadata": {
    "collapsed": false
   },
   "outputs": [
    {
     "data": {
      "text/plain": [
       "137"
      ]
     },
     "execution_count": 39,
     "metadata": {},
     "output_type": "execute_result"
    }
   ],
   "source": [
    "len(bbox_splitter.bbox_list)"
   ]
  },
  {
   "cell_type": "code",
   "execution_count": 40,
   "metadata": {
    "collapsed": true
   },
   "outputs": [],
   "source": [
    "import pickle"
   ]
  },
  {
   "cell_type": "code",
   "execution_count": 41,
   "metadata": {
    "collapsed": true
   },
   "outputs": [],
   "source": [
    "if not os.path.isdir('./tile-def'):\n",
    "    os.makedirs('./tile-def')\n",
    "    \n",
    "with open('./tile-def/pacific_garbage_patch_bbox_4326_17x25_348.pickle', 'wb') as fp:\n",
    "    pickle.dump(bbox_splitter, fp)"
   ]
  },
  {
   "cell_type": "code",
   "execution_count": 42,
   "metadata": {
    "collapsed": true
   },
   "outputs": [],
   "source": [
    "geometry = [Polygon(bbox.get_polygon()) for bbox in bbox_splitter.bbox_list]\n",
    "idxs_x = [info['index_x'] for info in bbox_splitter.info_list]\n",
    "idxs_y = [info['index_y'] for info in bbox_splitter.info_list]\n",
    "\n",
    "df = pd.DataFrame({'index_x':idxs_x, 'index_y':idxs_y})\n",
    "gdf_bboxes = gpd.GeoDataFrame(df, crs={'init':CRS.ogc_string(bbox_splitter.bbox_list[0].crs)}, geometry=geometry)"
   ]
  },
  {
   "cell_type": "code",
   "execution_count": 43,
   "metadata": {
    "collapsed": false
   },
   "outputs": [
    {
     "data": {
      "text/html": [
       "<div>\n",
       "<style scoped>\n",
       "    .dataframe tbody tr th:only-of-type {\n",
       "        vertical-align: middle;\n",
       "    }\n",
       "\n",
       "    .dataframe tbody tr th {\n",
       "        vertical-align: top;\n",
       "    }\n",
       "\n",
       "    .dataframe thead th {\n",
       "        text-align: right;\n",
       "    }\n",
       "</style>\n",
       "<table border=\"1\" class=\"dataframe\">\n",
       "  <thead>\n",
       "    <tr style=\"text-align: right;\">\n",
       "      <th></th>\n",
       "      <th>index_x</th>\n",
       "      <th>index_y</th>\n",
       "      <th>geometry</th>\n",
       "    </tr>\n",
       "  </thead>\n",
       "  <tbody>\n",
       "    <tr>\n",
       "      <th>0</th>\n",
       "      <td>0</td>\n",
       "      <td>4</td>\n",
       "      <td>POLYGON ((234277.4273488179 4114930.852145464,...</td>\n",
       "    </tr>\n",
       "    <tr>\n",
       "      <th>1</th>\n",
       "      <td>0</td>\n",
       "      <td>5</td>\n",
       "      <td>POLYGON ((234277.4273488179 4124789.200327557,...</td>\n",
       "    </tr>\n",
       "    <tr>\n",
       "      <th>2</th>\n",
       "      <td>0</td>\n",
       "      <td>6</td>\n",
       "      <td>POLYGON ((234277.4273488179 4134647.54850965, ...</td>\n",
       "    </tr>\n",
       "    <tr>\n",
       "      <th>3</th>\n",
       "      <td>0</td>\n",
       "      <td>7</td>\n",
       "      <td>POLYGON ((234277.4273488179 4144505.896691743,...</td>\n",
       "    </tr>\n",
       "    <tr>\n",
       "      <th>4</th>\n",
       "      <td>1</td>\n",
       "      <td>2</td>\n",
       "      <td>POLYGON ((243875.6995658943 4095214.155781278,...</td>\n",
       "    </tr>\n",
       "  </tbody>\n",
       "</table>\n",
       "</div>"
      ],
      "text/plain": [
       "   index_x  index_y                                           geometry\n",
       "0        0        4  POLYGON ((234277.4273488179 4114930.852145464,...\n",
       "1        0        5  POLYGON ((234277.4273488179 4124789.200327557,...\n",
       "2        0        6  POLYGON ((234277.4273488179 4134647.54850965, ...\n",
       "3        0        7  POLYGON ((234277.4273488179 4144505.896691743,...\n",
       "4        1        2  POLYGON ((243875.6995658943 4095214.155781278,..."
      ]
     },
     "execution_count": 43,
     "metadata": {},
     "output_type": "execute_result"
    }
   ],
   "source": [
    "gdf_bboxes.head()"
   ]
  },
  {
   "cell_type": "code",
   "execution_count": 44,
   "metadata": {
    "collapsed": false
   },
   "outputs": [
    {
     "data": {
      "image/png": "[encoded data removed]",
      "text/plain": [
       "<Figure size 1800x1224 with 1 Axes>"
      ]
     },
     "metadata": {},
     "output_type": "display_data"
    }
   ],
   "source": [
    "fontdict = {'family': 'monospace', 'weight': 'normal', 'size': 11}\n",
    "# if bboxes have all same size, estimate offset\n",
    "xl, yl, xu, yu = gdf_bboxes.geometry[0].bounds\n",
    "xoff, yoff = (xu-xl)/3, (yu-yl)/5\n",
    "# figure\n",
    "fig, ax = plt.subplots(figsize=(25,17))\n",
    "gdf_bboxes.plot(ax=ax,facecolor='w',edgecolor='r',alpha=0.5)\n",
    "#dam_nominal.plot(ax=ax, facecolor='w',edgecolor='b',alpha=0.5)\n",
    "ax.set_title('Slovenia tiled in a 25 x 17 grid');\n",
    "# add annotiation text\n",
    "for idx in gdf_bboxes.index:\n",
    "    eop_name = '{0}x{1}'.format(gdf_bboxes.index_x[idx], gdf_bboxes.index_y[idx])\n",
    "    centroid, = list(gdf_bboxes.geometry[idx].centroid.coords)\n",
    "    ax.text(centroid[0]-xoff, centroid[1]+yoff, '{}'.format(idx), fontdict=fontdict)\n",
    "    ax.text(centroid[0]-xoff, centroid[1]-yoff, eop_name, fontdict=fontdict)\n",
    "\n",
    "if not os.path.isdir('./figs'):\n",
    "    os.makedirs('./figs')\n",
    "fig.savefig('./figs/aoi_to_tiles.png', bbox_inches='tight')"
   ]
  },
  {
   "cell_type": "code",
   "execution_count": 45,
   "metadata": {
    "collapsed": false
   },
   "outputs": [
    {
     "name": "stderr",
     "output_type": "stream",
     "text": [
      "/Users/allykoo/anaconda/envs/data-x/lib/python3.6/site-packages/geopandas/io/file.py:108: FionaDeprecationWarning: Use fiona.Env() instead.\n",
      "  with fiona.drivers():\n"
     ]
    }
   ],
   "source": [
    "gdf_bboxes.to_file('./tile-def/patch_bbox_32633_17x25_293.shp')"
   ]
  },
  {
   "cell_type": "markdown",
   "metadata": {},
   "source": [
    "### Step 1: Intialize (and implement workflow specific) EOTasks"
   ]
  },
  {
   "cell_type": "code",
   "execution_count": 46,
   "metadata": {
    "collapsed": true
   },
   "outputs": [],
   "source": [
    "import matplotlib.pyplot as plt\n",
    "from mpl_toolkits.axes_grid1 import make_axes_locatable\n",
    "import numpy as np"
   ]
  },
  {
   "cell_type": "code",
   "execution_count": 47,
   "metadata": {
    "collapsed": true
   },
   "outputs": [],
   "source": [
    "\n",
    "from eolearn.core import EOTask, EOPatch, LinearWorkflow, Dependency, FeatureType, SaveToDisk, LoadFromDisk, RemoveFeature, OverwritePermission\n",
    "from eolearn.io import ExportToTiff\n",
    "from eolearn.io import S2L1CWCSInput\n",
    "from eolearn.mask import AddCloudMaskTask, get_s2_pixel_cloud_detector\n",
    "from eolearn.mask import AddValidDataMaskTask\n",
    "from eolearn.features import SimpleFilterTask"
   ]
  },
  {
   "cell_type": "code",
   "execution_count": 48,
   "metadata": {
    "collapsed": true
   },
   "outputs": [],
   "source": [
    "\n",
    "from sentinelhub import BBoxSplitter, CRS, MimeType"
   ]
  },
  {
   "cell_type": "code",
   "execution_count": 49,
   "metadata": {
    "collapsed": true
   },
   "outputs": [],
   "source": [
    "from pathlib import Path"
   ]
  },
  {
   "cell_type": "code",
   "execution_count": 50,
   "metadata": {
    "collapsed": true
   },
   "outputs": [],
   "source": [
    "import logging\n",
    "logging.getLogger(\"requests\").setLevel(logging.WARNING)\n",
    "logging.getLogger(\"urllib3\").setLevel(logging.WARNING)"
   ]
  },
  {
   "cell_type": "code",
   "execution_count": 51,
   "metadata": {
    "collapsed": true
   },
   "outputs": [],
   "source": [
    "data = Path('./')"
   ]
  },
  {
   "cell_type": "code",
   "execution_count": 52,
   "metadata": {
    "collapsed": true
   },
   "outputs": [],
   "source": [
    "if not os.path.exists(data/'data'/'valid_count'):\n",
    "    os.makedirs(data/'data'/'valid_count')"
   ]
  },
  {
   "cell_type": "markdown",
   "metadata": {},
   "source": [
    "### Get BBoxSplitter with tile definitions\n"
   ]
  },
  {
   "cell_type": "code",
   "execution_count": 53,
   "metadata": {
    "collapsed": true
   },
   "outputs": [],
   "source": [
    "with open(data/'tile-def'/'pacific_garbage_patch_bbox_4326_17x25_348.pickle','rb') as fp:\n",
    "    bbox_splitter = pickle.load(fp)"
   ]
  },
  {
   "cell_type": "code",
   "execution_count": 54,
   "metadata": {
    "collapsed": false
   },
   "outputs": [
    {
     "data": {
      "text/plain": [
       "137"
      ]
     },
     "execution_count": 54,
     "metadata": {},
     "output_type": "execute_result"
    }
   ],
   "source": [
    "len(bbox_splitter.bbox_list)\n"
   ]
  },
  {
   "cell_type": "code",
   "execution_count": 55,
   "metadata": {
    "collapsed": false
   },
   "outputs": [
    {
     "data": {
      "text/plain": [
       "BBox(((234277.42734881787, 4114930.852145464), (243875.69956589432, 4124789.200327557)), crs=EPSG:32607)"
      ]
     },
     "execution_count": 55,
     "metadata": {},
     "output_type": "execute_result"
    }
   ],
   "source": [
    "bbox_splitter.bbox_list[0]\n"
   ]
  },
  {
   "cell_type": "code",
   "execution_count": 56,
   "metadata": {
    "collapsed": false
   },
   "outputs": [
    {
     "data": {
      "text/plain": [
       "{'parent_bbox': BBox(((234277.42734881787, 4075497.4594170917), (368653.2383878881, 4183939.2894201158)), crs=EPSG:32607),\n",
       " 'index_x': 0,\n",
       " 'index_y': 4}"
      ]
     },
     "execution_count": 56,
     "metadata": {},
     "output_type": "execute_result"
    }
   ],
   "source": [
    "bbox_splitter.info_list[0]\n"
   ]
  },
  {
   "cell_type": "markdown",
   "metadata": {},
   "source": [
    "### Define a valid pixel"
   ]
  },
  {
   "cell_type": "code",
   "execution_count": 57,
   "metadata": {
    "collapsed": true
   },
   "outputs": [],
   "source": [
    "class SentinelHubValidData:\n",
    "    \"\"\"\n",
    "    Combine Sen2Cor's classification map with `IS_DATA` to define a `VALID_DATA_SH` mask\n",
    "\n",
    "    The SentinelHub's cloud mask is asumed to be found in eopatch.mask['CLM']\n",
    "    \"\"\"\n",
    "    def __call__(self, eopatch):\n",
    "        return np.logical_and(eopatch.mask['IS_DATA'].astype(np.bool),\n",
    "                              np.logical_not(eopatch.mask['CLM'].astype(np.bool)))"
   ]
  },
  {
   "cell_type": "markdown",
   "metadata": {},
   "source": [
    "### Define custom tasks"
   ]
  },
  {
   "cell_type": "code",
   "execution_count": 58,
   "metadata": {
    "collapsed": true
   },
   "outputs": [],
   "source": [
    "class CountValid(EOTask):\n",
    "    \"\"\"\n",
    "    The task counts number of valid observations in time-series and stores the results in the timeless mask.\n",
    "    \"\"\"\n",
    "    def __init__(self, count_what, feature_name):\n",
    "        self.what = count_what\n",
    "        self.name = feature_name\n",
    "\n",
    "    def execute(self, eopatch):\n",
    "        eopatch.add_feature(FeatureType.MASK_TIMELESS, self.name, np.count_nonzero(eopatch.mask[self.what],axis=0))\n",
    "\n",
    "        return eopatch"
   ]
  },
  {
   "cell_type": "code",
   "execution_count": 59,
   "metadata": {
    "collapsed": false
   },
   "outputs": [
    {
     "name": "stderr",
     "output_type": "stream",
     "text": [
      "/Users/allykoo/anaconda/envs/data-x/lib/python3.6/site-packages/lightgbm/__init__.py:46: UserWarning: Starting from version 2.2.1, the library file in distribution wheels for macOS is built by the Apple Clang (Xcode_9.4.1) compiler.\n",
      "This means that in case of installing LightGBM from PyPI via the ``pip install lightgbm`` command, you don't need to install the gcc compiler anymore.\n",
      "Instead of that, you need to install the OpenMP library, which is required for running LightGBM on the system with the Apple Clang compiler.\n",
      "You can install the OpenMP library by the following command: ``brew install libomp``.\n",
      "  \"You can install the OpenMP library by the following command: ``brew install libomp``.\", UserWarning)\n"
     ]
    },
    {
     "name": "stdout",
     "output_type": "stream",
     "text": [
      "Finished loading model, total used 170 iterations\n"
     ]
    }
   ],
   "source": [
    "# 1. Create `EOPatch` by filling it with RGB L1C data\n",
    "# Add TRUE COLOR from L1C\n",
    "# The `TRUE-COLOR-S2-L1C` needs to be defined in your configurator\n",
    "input_task = S2L1CWCSInput('TRUE-COLOR-S2-L1C', resx='10m', resy='10m', maxcc=0.8, instance_id=INSTANCE_ID)\n",
    "# want to look at data from sentinel-3 -- can use WCS request\n",
    "# e.g. layer=layer, data_source=DataSource.SENTINEL2_L1C\n",
    "\n",
    "\n",
    "# 2. Run SentinelHub's cloud detector\n",
    "# (cloud detection is performed at 160m resolution\n",
    "# and the resulting cloud probability map and mask\n",
    "# are upscaled to EOPatch's resolution)\n",
    "\n",
    "cloud_classifier = get_s2_pixel_cloud_detector(average_over=2, dilation_size=1, all_bands=False)\n",
    "add_clm = AddCloudMaskTask(cloud_classifier, 'BANDS-S2CLOUDLESS', cm_size_y='160m', cm_size_x='160m',\n",
    "                           cmask_feature='CLM', cprobs_feature='CLP', instance_id=INSTANCE_ID)\n",
    "\n",
    "# 3. Validate pixels using SentinelHub's cloud detection mask\n",
    "add_sh_valmask = AddValidDataMaskTask(SentinelHubValidData(), 'VALID_DATA_SH')\n",
    "\n",
    "# 4. Count number of valid observations per pixel using valid data mask\n",
    "count_val_sh = CountValid('VALID_DATA_SH', 'VALID_COUNT_SH')\n",
    "\n",
    "# 5. Export valid pixel count to tiff file\n",
    "export_val_sh = ExportToTiff((FeatureType.MASK_TIMELESS, 'VALID_COUNT_SH'))\n",
    "\n",
    "# 6. Save EOPatch to disk\n",
    "save = SaveToDisk(str(data/'data'/'eopatch-L1C'), overwrite_permission=OverwritePermission.OVERWRITE_PATCH)\n"
   ]
  },
  {
   "cell_type": "code",
   "execution_count": 60,
   "metadata": {
    "collapsed": true
   },
   "outputs": [],
   "source": [
    "workflow = LinearWorkflow(input_task,\n",
    "                          add_clm,\n",
    "                          add_sh_valmask, count_val_sh,\n",
    "                          export_val_sh, save)"
   ]
  },
  {
   "cell_type": "code",
   "execution_count": 61,
   "metadata": {
    "collapsed": false
   },
   "outputs": [
    {
     "name": "stdout",
     "output_type": "stream",
     "text": [
      "234277.42734881787,4114930.852145464,243875.69956589432,4124789.200327557\n"
     ]
    }
   ],
   "source": [
    "print(bbox_splitter.bbox_list[0])"
   ]
  },
  {
   "cell_type": "code",
   "execution_count": 62,
   "metadata": {
    "collapsed": false
   },
   "outputs": [
    {
     "ename": "IndexError",
     "evalue": "index -1 is out of bounds for axis 0 with size 0",
     "output_type": "error",
     "traceback": [
      "\u001b[0;31m---------------------------------------------------------------------------\u001b[0m",
      "\u001b[0;31mIndexError\u001b[0m                                Traceback (most recent call last)",
      "\u001b[0;32m<ipython-input-62-21606618488f>\u001b[0m in \u001b[0;36m<module>\u001b[0;34m()\u001b[0m\n\u001b[1;32m      8\u001b[0m results = workflow.execute({input_task:{'bbox':bbox, 'time_interval':time_interval},\n\u001b[1;32m      9\u001b[0m                             \u001b[0mexport_val_sh\u001b[0m\u001b[0;34m:\u001b[0m\u001b[0;34m{\u001b[0m\u001b[0;34m'filename'\u001b[0m\u001b[0;34m:\u001b[0m\u001b[0mstr\u001b[0m\u001b[0;34m(\u001b[0m\u001b[0mdata\u001b[0m\u001b[0;34m/\u001b[0m\u001b[0;34m'data'\u001b[0m\u001b[0;34m/\u001b[0m\u001b[0;34m'valid_count-L1C'\u001b[0m\u001b[0;34m/\u001b[0m\u001b[0mtiff_name\u001b[0m\u001b[0;34m)\u001b[0m\u001b[0;34m}\u001b[0m\u001b[0;34m,\u001b[0m\u001b[0;34m\u001b[0m\u001b[0m\n\u001b[0;32m---> 10\u001b[0;31m                             \u001b[0msave\u001b[0m\u001b[0;34m:\u001b[0m\u001b[0;34m{\u001b[0m\u001b[0;34m'eopatch_folder'\u001b[0m\u001b[0;34m:\u001b[0m\u001b[0mpatch_name\u001b[0m\u001b[0;34m}\u001b[0m\u001b[0;34m\u001b[0m\u001b[0m\n\u001b[0m\u001b[1;32m     11\u001b[0m                            })\n",
      "\u001b[0;32m~/anaconda/envs/data-x/lib/python3.6/site-packages/eolearn/core/eoworkflow.py\u001b[0m in \u001b[0;36mexecute\u001b[0;34m(self, input_args, monitor)\u001b[0m\n\u001b[1;32m    165\u001b[0m                 \u001b[0;32mraise\u001b[0m \u001b[0mValueError\u001b[0m\u001b[0;34m(\u001b[0m\u001b[0;34m'Invalid input argument {}, should be an instance of EOTask'\u001b[0m\u001b[0;34m.\u001b[0m\u001b[0mformat\u001b[0m\u001b[0;34m(\u001b[0m\u001b[0mtask\u001b[0m\u001b[0;34m)\u001b[0m\u001b[0;34m)\u001b[0m\u001b[0;34m\u001b[0m\u001b[0m\n\u001b[1;32m    166\u001b[0m \u001b[0;34m\u001b[0m\u001b[0m\n\u001b[0;32m--> 167\u001b[0;31m         \u001b[0m_\u001b[0m\u001b[0;34m,\u001b[0m \u001b[0mintermediate_results\u001b[0m \u001b[0;34m=\u001b[0m \u001b[0mself\u001b[0m\u001b[0;34m.\u001b[0m\u001b[0m_execute_tasks\u001b[0m\u001b[0;34m(\u001b[0m\u001b[0minput_args\u001b[0m\u001b[0;34m=\u001b[0m\u001b[0minput_args\u001b[0m\u001b[0;34m,\u001b[0m \u001b[0mout_degs\u001b[0m\u001b[0;34m=\u001b[0m\u001b[0mout_degs\u001b[0m\u001b[0;34m,\u001b[0m \u001b[0mmonitor\u001b[0m\u001b[0;34m=\u001b[0m\u001b[0mmonitor\u001b[0m\u001b[0;34m)\u001b[0m\u001b[0;34m\u001b[0m\u001b[0m\n\u001b[0m\u001b[1;32m    168\u001b[0m \u001b[0;34m\u001b[0m\u001b[0m\n\u001b[1;32m    169\u001b[0m         \u001b[0;32mreturn\u001b[0m \u001b[0mWorkflowResults\u001b[0m\u001b[0;34m(\u001b[0m\u001b[0mintermediate_results\u001b[0m\u001b[0;34m)\u001b[0m\u001b[0;34m\u001b[0m\u001b[0m\n",
      "\u001b[0;32m~/anaconda/envs/data-x/lib/python3.6/site-packages/eolearn/core/eoworkflow.py\u001b[0m in \u001b[0;36m_execute_tasks\u001b[0;34m(self, input_args, out_degs, monitor)\u001b[0m\n\u001b[1;32m    188\u001b[0m                                         \u001b[0minput_args\u001b[0m\u001b[0;34m=\u001b[0m\u001b[0minput_args\u001b[0m\u001b[0;34m,\u001b[0m\u001b[0;34m\u001b[0m\u001b[0m\n\u001b[1;32m    189\u001b[0m                                         \u001b[0mintermediate_results\u001b[0m\u001b[0;34m=\u001b[0m\u001b[0mintermediate_results\u001b[0m\u001b[0;34m,\u001b[0m\u001b[0;34m\u001b[0m\u001b[0m\n\u001b[0;32m--> 190\u001b[0;31m                                         monitor=monitor)\n\u001b[0m\u001b[1;32m    191\u001b[0m \u001b[0;34m\u001b[0m\u001b[0m\n\u001b[1;32m    192\u001b[0m             \u001b[0mintermediate_results\u001b[0m\u001b[0;34m[\u001b[0m\u001b[0mdep\u001b[0m\u001b[0;34m]\u001b[0m \u001b[0;34m=\u001b[0m \u001b[0mresult\u001b[0m\u001b[0;34m\u001b[0m\u001b[0m\n",
      "\u001b[0;32m~/anaconda/envs/data-x/lib/python3.6/site-packages/eolearn/core/eoworkflow.py\u001b[0m in \u001b[0;36m_execute_task\u001b[0;34m(self, dependency, input_args, intermediate_results, monitor)\u001b[0m\n\u001b[1;32m    215\u001b[0m         \u001b[0minputs\u001b[0m \u001b[0;34m=\u001b[0m \u001b[0mtuple\u001b[0m\u001b[0;34m(\u001b[0m\u001b[0mintermediate_results\u001b[0m\u001b[0;34m[\u001b[0m\u001b[0mself\u001b[0m\u001b[0;34m.\u001b[0m\u001b[0muuid_dict\u001b[0m\u001b[0;34m[\u001b[0m\u001b[0minput_task\u001b[0m\u001b[0;34m.\u001b[0m\u001b[0muuid\u001b[0m\u001b[0;34m]\u001b[0m\u001b[0;34m]\u001b[0m \u001b[0;32mfor\u001b[0m \u001b[0minput_task\u001b[0m \u001b[0;32min\u001b[0m \u001b[0mdependency\u001b[0m\u001b[0;34m.\u001b[0m\u001b[0minputs\u001b[0m\u001b[0;34m)\u001b[0m\u001b[0;34m\u001b[0m\u001b[0m\n\u001b[1;32m    216\u001b[0m         \u001b[0mLOGGER\u001b[0m\u001b[0;34m.\u001b[0m\u001b[0mdebug\u001b[0m\u001b[0;34m(\u001b[0m\u001b[0;34m\"Computing %s(*%s, **%s)\"\u001b[0m\u001b[0;34m,\u001b[0m \u001b[0mstr\u001b[0m\u001b[0;34m(\u001b[0m\u001b[0mtask\u001b[0m\u001b[0;34m)\u001b[0m\u001b[0;34m,\u001b[0m \u001b[0mstr\u001b[0m\u001b[0;34m(\u001b[0m\u001b[0minputs\u001b[0m\u001b[0;34m)\u001b[0m\u001b[0;34m,\u001b[0m \u001b[0mstr\u001b[0m\u001b[0;34m(\u001b[0m\u001b[0mkw_inputs\u001b[0m\u001b[0;34m)\u001b[0m\u001b[0;34m)\u001b[0m\u001b[0;34m\u001b[0m\u001b[0m\n\u001b[0;32m--> 217\u001b[0;31m         \u001b[0;32mreturn\u001b[0m \u001b[0mtask\u001b[0m\u001b[0;34m(\u001b[0m\u001b[0;34m*\u001b[0m\u001b[0minputs\u001b[0m\u001b[0;34m,\u001b[0m \u001b[0;34m**\u001b[0m\u001b[0mkw_inputs\u001b[0m\u001b[0;34m,\u001b[0m \u001b[0mmonitor\u001b[0m\u001b[0;34m=\u001b[0m\u001b[0mmonitor\u001b[0m\u001b[0;34m)\u001b[0m\u001b[0;34m\u001b[0m\u001b[0m\n\u001b[0m\u001b[1;32m    218\u001b[0m \u001b[0;34m\u001b[0m\u001b[0m\n\u001b[1;32m    219\u001b[0m     \u001b[0;32mdef\u001b[0m \u001b[0m_relax_dependencies\u001b[0m\u001b[0;34m(\u001b[0m\u001b[0mself\u001b[0m\u001b[0;34m,\u001b[0m \u001b[0;34m*\u001b[0m\u001b[0;34m,\u001b[0m \u001b[0mdependency\u001b[0m\u001b[0;34m,\u001b[0m \u001b[0mout_degrees\u001b[0m\u001b[0;34m,\u001b[0m \u001b[0mintermediate_results\u001b[0m\u001b[0;34m)\u001b[0m\u001b[0;34m:\u001b[0m\u001b[0;34m\u001b[0m\u001b[0m\n",
      "\u001b[0;32m~/anaconda/envs/data-x/lib/python3.6/site-packages/eolearn/core/eotask.py\u001b[0m in \u001b[0;36m__call__\u001b[0;34m(self, monitor, *eopatches, **kwargs)\u001b[0m\n\u001b[1;32m     47\u001b[0m             \u001b[0;32mreturn\u001b[0m \u001b[0mself\u001b[0m\u001b[0;34m.\u001b[0m\u001b[0mexecute_and_monitor\u001b[0m\u001b[0;34m(\u001b[0m\u001b[0;34m*\u001b[0m\u001b[0meopatches\u001b[0m\u001b[0;34m,\u001b[0m \u001b[0;34m**\u001b[0m\u001b[0mkwargs\u001b[0m\u001b[0;34m)\u001b[0m\u001b[0;34m\u001b[0m\u001b[0m\n\u001b[1;32m     48\u001b[0m \u001b[0;34m\u001b[0m\u001b[0m\n\u001b[0;32m---> 49\u001b[0;31m         \u001b[0;32mreturn\u001b[0m \u001b[0mself\u001b[0m\u001b[0;34m.\u001b[0m\u001b[0mexecute\u001b[0m\u001b[0;34m(\u001b[0m\u001b[0;34m*\u001b[0m\u001b[0meopatches\u001b[0m\u001b[0;34m,\u001b[0m \u001b[0;34m**\u001b[0m\u001b[0mkwargs\u001b[0m\u001b[0;34m)\u001b[0m\u001b[0;34m\u001b[0m\u001b[0m\n\u001b[0m\u001b[1;32m     50\u001b[0m \u001b[0;34m\u001b[0m\u001b[0m\n\u001b[1;32m     51\u001b[0m     \u001b[0;34m@\u001b[0m\u001b[0mstaticmethod\u001b[0m\u001b[0;34m\u001b[0m\u001b[0m\n",
      "\u001b[0;32m~/anaconda/envs/data-x/lib/python3.6/site-packages/eolearn/io/sentinelhub_service.py\u001b[0m in \u001b[0;36mexecute\u001b[0;34m(self, eopatch, bbox, time_interval)\u001b[0m\n\u001b[1;32m    221\u001b[0m                                'due to unavailability of %s!', str(removed_frame), self.layer)\n\u001b[1;32m    222\u001b[0m \u001b[0;34m\u001b[0m\u001b[0m\n\u001b[0;32m--> 223\u001b[0;31m         \u001b[0mself\u001b[0m\u001b[0;34m.\u001b[0m\u001b[0m_add_data\u001b[0m\u001b[0;34m(\u001b[0m\u001b[0meopatch\u001b[0m\u001b[0;34m,\u001b[0m \u001b[0mnp\u001b[0m\u001b[0;34m.\u001b[0m\u001b[0masarray\u001b[0m\u001b[0;34m(\u001b[0m\u001b[0mimages\u001b[0m\u001b[0;34m)\u001b[0m\u001b[0;34m)\u001b[0m\u001b[0;34m\u001b[0m\u001b[0m\n\u001b[0m\u001b[1;32m    224\u001b[0m         \u001b[0mself\u001b[0m\u001b[0;34m.\u001b[0m\u001b[0m_add_meta_info\u001b[0m\u001b[0;34m(\u001b[0m\u001b[0meopatch\u001b[0m\u001b[0;34m,\u001b[0m \u001b[0mrequest_params\u001b[0m\u001b[0;34m,\u001b[0m \u001b[0mservice_type\u001b[0m\u001b[0;34m)\u001b[0m\u001b[0;34m\u001b[0m\u001b[0m\n\u001b[1;32m    225\u001b[0m         \u001b[0;32mreturn\u001b[0m \u001b[0meopatch\u001b[0m\u001b[0;34m\u001b[0m\u001b[0m\n",
      "\u001b[0;32m~/anaconda/envs/data-x/lib/python3.6/site-packages/eolearn/io/sentinelhub_service.py\u001b[0m in \u001b[0;36m_add_data\u001b[0;34m(self, eopatch, data)\u001b[0m\n\u001b[1;32m    131\u001b[0m     \u001b[0;32mdef\u001b[0m \u001b[0m_add_data\u001b[0m\u001b[0;34m(\u001b[0m\u001b[0mself\u001b[0m\u001b[0;34m,\u001b[0m \u001b[0meopatch\u001b[0m\u001b[0;34m,\u001b[0m \u001b[0mdata\u001b[0m\u001b[0;34m)\u001b[0m\u001b[0;34m:\u001b[0m\u001b[0;34m\u001b[0m\u001b[0m\n\u001b[1;32m    132\u001b[0m         \u001b[0;34m\"\"\" Adds downloaded data to EOPatch \"\"\"\u001b[0m\u001b[0;34m\u001b[0m\u001b[0m\n\u001b[0;32m--> 133\u001b[0;31m         \u001b[0mvalid_mask\u001b[0m \u001b[0;34m=\u001b[0m \u001b[0mdata\u001b[0m\u001b[0;34m[\u001b[0m\u001b[0;34m...\u001b[0m\u001b[0;34m,\u001b[0m \u001b[0;34m-\u001b[0m\u001b[0;36m1\u001b[0m\u001b[0;34m]\u001b[0m\u001b[0;34m\u001b[0m\u001b[0m\n\u001b[0m\u001b[1;32m    134\u001b[0m         \u001b[0mdata\u001b[0m \u001b[0;34m=\u001b[0m \u001b[0mdata\u001b[0m\u001b[0;34m[\u001b[0m\u001b[0;34m...\u001b[0m\u001b[0;34m,\u001b[0m \u001b[0;34m:\u001b[0m\u001b[0;34m-\u001b[0m\u001b[0;36m1\u001b[0m\u001b[0;34m]\u001b[0m\u001b[0;34m\u001b[0m\u001b[0m\n\u001b[1;32m    135\u001b[0m \u001b[0;34m\u001b[0m\u001b[0m\n",
      "\u001b[0;31mIndexError\u001b[0m: index -1 is out of bounds for axis 0 with size 0"
     ]
    }
   ],
   "source": [
    "time_interval = ['2017-01-01','2017-12-31']\n",
    "\n",
    "idx = 0\n",
    "bbox = bbox_splitter.bbox_list[idx]\n",
    "info = bbox_splitter.info_list[idx]\n",
    "tiff_name = f'val_count_sh_eopatch_{idx}_row-{info[\"index_x\"]}_col-{info[\"index_y\"]}.tiff'\n",
    "patch_name = f'eopatch_{idx}_row-{info[\"index_x\"]}_col-{info[\"index_y\"]}'\n",
    "results = workflow.execute({input_task:{'bbox':bbox, 'time_interval':time_interval},\n",
    "                            export_val_sh:{'filename':str(data/'data'/'valid_count-L1C'/tiff_name)},\n",
    "                            save:{'eopatch_folder':patch_name}\n",
    "                           })"
   ]
  },
  {
   "cell_type": "code",
   "execution_count": null,
   "metadata": {
    "collapsed": true
   },
   "outputs": [],
   "source": [
    "patch = list(results.values())[-1]"
   ]
  },
  {
   "cell_type": "code",
   "execution_count": null,
   "metadata": {
    "collapsed": false
   },
   "outputs": [],
   "source": [
    "patch"
   ]
  },
  {
   "cell_type": "code",
   "execution_count": null,
   "metadata": {
    "collapsed": false
   },
   "outputs": [],
   "source": [
    "patch.timestamp"
   ]
  },
  {
   "cell_type": "code",
   "execution_count": null,
   "metadata": {
    "collapsed": true
   },
   "outputs": [],
   "source": [
    "def plot_frame(patch, idx, save_fig=False):\n",
    "    fig, axs = plt.subplots(nrows=2, ncols=2, figsize=(20,20))\n",
    "\n",
    "    axs[0,0].imshow(patch.data['TRUE-COLOR-S2-L1C'][idx])\n",
    "    axs[0,0].set_title(f'RGB {patch.timestamp[idx]}')\n",
    "    axs[0,1].imshow(patch.mask['VALID_DATA_SH'][idx, ..., 0],vmin=0,vmax=1)\n",
    "    axs[0,1].set_title(f'Valid data {patch.timestamp[idx]}')\n",
    "    axs[1,0].imshow(patch.mask['CLM'][idx,...,0],vmin=0,vmax=1)\n",
    "    axs[1,0].set_title(f'SentinelHub Cloud Mask {patch.timestamp[idx]}')\n",
    "    divider = make_axes_locatable(axs[1,1])\n",
    "    cax = divider.append_axes('right', size='5%', pad=0.05)\n",
    "    im = axs[1,1].imshow(patch.data['CLP'][idx,...,0],cmap=plt.cm.inferno, vmin=0.0, vmax=1.0)\n",
    "    fig.colorbar(im, cax=cax, orientation='vertical')\n",
    "    axs[1,1].imshow(patch.data['CLP'][idx,...,0],cmap=plt.cm.inferno)\n",
    "    axs[1,1].set_title(f'SentinelHub Cloud Probability {patch.timestamp[idx]}')\n",
    "\n",
    "    if save_fig:\n",
    "        fig.savefig(f'figs/patch_{idx}_{patch.timestamp[idx]}.png', bbox_inches='tight')\n",
    "        fig.clf()"
   ]
  },
  {
   "cell_type": "code",
   "execution_count": null,
   "metadata": {
    "collapsed": false
   },
   "outputs": [],
   "source": [
    "plot_frame(patch, 0)"
   ]
  },
  {
   "cell_type": "markdown",
   "metadata": {},
   "source": [
    "#### Create an EOPatch and add all EO features (satellite imagery data)"
   ]
  },
  {
   "cell_type": "code",
   "execution_count": null,
   "metadata": {
    "collapsed": true
   },
   "outputs": [],
   "source": []
  },
  {
   "cell_type": "code",
   "execution_count": 63,
   "metadata": {
    "collapsed": true
   },
   "outputs": [],
   "source": [
    "input_task = S2L1CWCSInput('TRUE-COLOR-S2-L1C', resx='20m', resy='20m', maxcc=0.5,instance_id=INSTANCE_ID)\n",
    "add_ndwi = S2L1CWCSInput('NDWI', instance_id=INSTANCE_ID)"
   ]
  },
  {
   "cell_type": "markdown",
   "metadata": {},
   "source": [
    "#### Burn in the nominal water extent\n",
    "\n",
    "The `VectorToRaster` task expects the vectorised dataset in geopandas dataframe."
   ]
  },
  {
   "cell_type": "code",
   "execution_count": 83,
   "metadata": {
    "collapsed": true
   },
   "outputs": [],
   "source": [
    "gdf = gpd.GeoDataFrame(crs={'init':'epsg:32607'},geometry=[dam_projected])"
   ]
  },
  {
   "cell_type": "code",
   "execution_count": 84,
   "metadata": {
    "collapsed": false
   },
   "outputs": [
    {
     "data": {
      "text/plain": [
       "<matplotlib.axes._subplots.AxesSubplot at 0x1c3ef9e048>"
      ]
     },
     "execution_count": 84,
     "metadata": {},
     "output_type": "execute_result"
    },
    {
     "data": {
      "image/png": "[encoded data removed]",
      "text/plain": [
       "<Figure size 432x288 with 1 Axes>"
      ]
     },
     "metadata": {},
     "output_type": "display_data"
    }
   ],
   "source": [
    "gdf.plot()"
   ]
  },
  {
   "cell_type": "code",
   "execution_count": 85,
   "metadata": {
    "collapsed": true
   },
   "outputs": [],
   "source": [
    "add_nominal_water = VectorToRaster((FeatureType.MASK_TIMELESS, 'NOMINAL_WATER'), gdf, 1, \n",
    "                                   (FeatureType.MASK, 'IS_DATA'), np.uint8)"
   ]
  },
  {
   "cell_type": "markdown",
   "metadata": {},
   "source": [
    "#### Run s2cloudless cloud detector and filter out scenes with cloud coverage >20%\n",
    "\n",
    "To speed up the process hte cloud detection is executed at lower resolution (160m). The resulting cloud probability map and binary mask are stored as `CLP` and `CLM` features in EOPatch."
   ]
  },
  {
   "cell_type": "code",
   "execution_count": 86,
   "metadata": {
    "collapsed": false
   },
   "outputs": [
    {
     "name": "stdout",
     "output_type": "stream",
     "text": [
      "Finished loading model, total used 170 iterations\n"
     ]
    }
   ],
   "source": [
    "cloud_classifier = get_s2_pixel_cloud_detector(average_over=2, dilation_size=1, all_bands=False)\n",
    "cloud_det = AddCloudMaskTask(cloud_classifier, 'BANDS-S2CLOUDLESS', cm_size_y='160m', cm_size_x='160m', \n",
    "                             cmask_feature='CLM', cprobs_feature='CLP', instance_id=INSTANCE_ID)"
   ]
  },
  {
   "cell_type": "markdown",
   "metadata": {},
   "source": [
    "Define a `VALID_DATA` layer: pixel has to contain data and should be classified as clear sky by the cloud detector (`CLM` equals 0)"
   ]
  },
  {
   "cell_type": "code",
   "execution_count": 87,
   "metadata": {
    "collapsed": true
   },
   "outputs": [],
   "source": [
    "class ValidDataPredicate:\n",
    "    def __call__(self, eopatch):     \n",
    "        return np.logical_and(eopatch.mask['IS_DATA'].astype(np.bool), \n",
    "                              np.logical_not(eopatch.mask['CLM'].astype(np.bool)))"
   ]
  },
  {
   "cell_type": "code",
   "execution_count": 88,
   "metadata": {
    "collapsed": true
   },
   "outputs": [],
   "source": [
    "add_valmask = AddValidDataMaskTask(predicate=ValidDataPredicate())"
   ]
  },
  {
   "cell_type": "markdown",
   "metadata": {},
   "source": [
    "Calculate fraction of valid pixels per frame and store it as `SCALAR` feature"
   ]
  },
  {
   "cell_type": "code",
   "execution_count": 89,
   "metadata": {
    "collapsed": true
   },
   "outputs": [],
   "source": [
    "def coverage(array):\n",
    "    return 1.0 - np.count_nonzero(array)/np.size(array)"
   ]
  },
  {
   "cell_type": "code",
   "execution_count": 90,
   "metadata": {
    "collapsed": true
   },
   "outputs": [],
   "source": [
    "class AddValidDataCoverage(EOTask):\n",
    "    def execute(self, eopatch):\n",
    "        \n",
    "        vld = eopatch.get_feature(FeatureType.MASK, 'VALID_DATA')\n",
    "        \n",
    "        cvrg = np.apply_along_axis(coverage, 1, np.reshape(vld, (vld.shape[0], vld.shape[1]*vld.shape[2])))\n",
    "        \n",
    "        eopatch.add_feature(FeatureType.SCALAR, 'COVERAGE', cvrg[:,np.newaxis])\n",
    "        return eopatch"
   ]
  },
  {
   "cell_type": "code",
   "execution_count": 91,
   "metadata": {
    "collapsed": true
   },
   "outputs": [],
   "source": [
    "add_coverage = AddValidDataCoverage()"
   ]
  },
  {
   "cell_type": "markdown",
   "metadata": {},
   "source": [
    "Filter out too cloudy scenes"
   ]
  },
  {
   "cell_type": "code",
   "execution_count": 92,
   "metadata": {
    "collapsed": true
   },
   "outputs": [],
   "source": [
    "class ValidDataCoveragePredicate:\n",
    "    def __init__(self, threshold):\n",
    "        self.threshold = threshold\n",
    "        \n",
    "    def __call__(self, array):\n",
    "        coverage = 1.0 - np.count_nonzero(array)/np.size(array)\n",
    "        return coverage < self.threshold"
   ]
  },
  {
   "cell_type": "code",
   "execution_count": 93,
   "metadata": {
    "collapsed": true
   },
   "outputs": [],
   "source": [
    "remove_cloudy_scenes = SimpleFilterTask((FeatureType.MASK, 'VALID_DATA'), ValidDataCoveragePredicate(0.2))"
   ]
  },
  {
   "cell_type": "markdown",
   "metadata": {},
   "source": [
    "#### Apply Water Detection\n",
    "\n"
   ]
  },
  {
   "cell_type": "code",
   "execution_count": 94,
   "metadata": {
    "collapsed": true
   },
   "outputs": [],
   "source": [
    "def water_detection(ndwi):\n",
    "    \"\"\"\n",
    "    Very simple water detector based on Otsu thresholding method of NDWI.\n",
    "    \"\"\"\n",
    "    otsu_thr = 1.0\n",
    "    if len(np.unique(ndwi)) > 1:\n",
    "        otsu_thr = threshold_otsu(ndwi)\n",
    "    \n",
    "    return ndwi>otsu_thr"
   ]
  },
  {
   "cell_type": "code",
   "execution_count": 95,
   "metadata": {
    "collapsed": true
   },
   "outputs": [],
   "source": [
    "class WaterDetector(EOTask):\n",
    "    def execute(self, eopatch):\n",
    "        water_masks = np.asarray([water_detection(ndwi[...,0]) for ndwi in eopatch.data['NDWI']])\n",
    "        \n",
    "        # we're only interested in the water within the dam borders\n",
    "        water_masks = water_masks[...,np.newaxis] * eopatch.mask_timeless['NOMINAL_WATER']\n",
    "        \n",
    "        water_levels = np.asarray([np.count_nonzero(mask)/np.count_nonzero(eopatch.mask_timeless['NOMINAL_WATER']) for mask in water_masks])\n",
    "        \n",
    "        eopatch.add_feature(FeatureType.MASK, 'WATER_MASK', water_masks)\n",
    "        eopatch.add_feature(FeatureType.SCALAR, 'WATER_LEVEL', water_levels[...,np.newaxis])\n",
    "        \n",
    "        return eopatch"
   ]
  },
  {
   "cell_type": "code",
   "execution_count": 96,
   "metadata": {
    "collapsed": true
   },
   "outputs": [],
   "source": [
    "water_det = WaterDetector()"
   ]
  },
  {
   "cell_type": "markdown",
   "metadata": {},
   "source": [
    "### Step 2: Define the EOWorkflow"
   ]
  },
  {
   "cell_type": "code",
   "execution_count": null,
   "metadata": {
    "collapsed": true
   },
   "outputs": [],
   "source": []
  },
  {
   "cell_type": "code",
   "execution_count": 97,
   "metadata": {
    "collapsed": true
   },
   "outputs": [],
   "source": [
    "workflow = EOWorkflow.make_linear_workflow(input_task, add_ndwi, cloud_det, add_nominal_water, add_valmask, add_coverage, remove_cloudy_scenes, water_det)"
   ]
  },
  {
   "cell_type": "markdown",
   "metadata": {},
   "source": [
    "### Step 3: Run the workflow\n",
    "\n",
    "Process all Sentinel-2 acquisitions from beginning of 2016 and until end of August 2018."
   ]
  },
  {
   "cell_type": "code",
   "execution_count": 98,
   "metadata": {
    "collapsed": true
   },
   "outputs": [],
   "source": [
    "time_interval = ['2016-01-01','2018-08-31']"
   ]
  },
  {
   "cell_type": "code",
   "execution_count": 99,
   "metadata": {
    "collapsed": true
   },
   "outputs": [],
   "source": [
    "time_interval = ['2017-01-01','2017-12-31']\n",
    "\n",
    "idx = 0\n",
    "bbox = bbox_splitter.bbox_list[idx]\n",
    "info = bbox_splitter.info_list[idx]"
   ]
  },
  {
   "cell_type": "code",
   "execution_count": 100,
   "metadata": {
    "collapsed": false
   },
   "outputs": [
    {
     "data": {
      "text/plain": [
       "BBox(((234277.42734881787, 4114930.852145464), (243875.69956589432, 4124789.200327557)), crs=EPSG:32607)"
      ]
     },
     "execution_count": 100,
     "metadata": {},
     "output_type": "execute_result"
    }
   ],
   "source": [
    "bbox"
   ]
  },
  {
   "cell_type": "code",
   "execution_count": 101,
   "metadata": {
    "collapsed": false
   },
   "outputs": [
    {
     "ename": "IndexError",
     "evalue": "index -1 is out of bounds for axis 0 with size 0",
     "output_type": "error",
     "traceback": [
      "\u001b[0;31m---------------------------------------------------------------------------\u001b[0m",
      "\u001b[0;31mIndexError\u001b[0m                                Traceback (most recent call last)",
      "\u001b[0;32m<ipython-input-101-8dd3c3dab053>\u001b[0m in \u001b[0;36m<module>\u001b[0;34m()\u001b[0m\n\u001b[0;32m----> 1\u001b[0;31m result = workflow.execute({input_task:{'bbox':bbox, 'time_interval':time_interval},\n\u001b[0m\u001b[1;32m      2\u001b[0m                           })\n",
      "\u001b[0;32m~/anaconda/envs/data-x/lib/python3.6/site-packages/eolearn/core/eoworkflow.py\u001b[0m in \u001b[0;36mexecute\u001b[0;34m(self, input_args, monitor)\u001b[0m\n\u001b[1;32m    165\u001b[0m                 \u001b[0;32mraise\u001b[0m \u001b[0mValueError\u001b[0m\u001b[0;34m(\u001b[0m\u001b[0;34m'Invalid input argument {}, should be an instance of EOTask'\u001b[0m\u001b[0;34m.\u001b[0m\u001b[0mformat\u001b[0m\u001b[0;34m(\u001b[0m\u001b[0mtask\u001b[0m\u001b[0;34m)\u001b[0m\u001b[0;34m)\u001b[0m\u001b[0;34m\u001b[0m\u001b[0m\n\u001b[1;32m    166\u001b[0m \u001b[0;34m\u001b[0m\u001b[0m\n\u001b[0;32m--> 167\u001b[0;31m         \u001b[0m_\u001b[0m\u001b[0;34m,\u001b[0m \u001b[0mintermediate_results\u001b[0m \u001b[0;34m=\u001b[0m \u001b[0mself\u001b[0m\u001b[0;34m.\u001b[0m\u001b[0m_execute_tasks\u001b[0m\u001b[0;34m(\u001b[0m\u001b[0minput_args\u001b[0m\u001b[0;34m=\u001b[0m\u001b[0minput_args\u001b[0m\u001b[0;34m,\u001b[0m \u001b[0mout_degs\u001b[0m\u001b[0;34m=\u001b[0m\u001b[0mout_degs\u001b[0m\u001b[0;34m,\u001b[0m \u001b[0mmonitor\u001b[0m\u001b[0;34m=\u001b[0m\u001b[0mmonitor\u001b[0m\u001b[0;34m)\u001b[0m\u001b[0;34m\u001b[0m\u001b[0m\n\u001b[0m\u001b[1;32m    168\u001b[0m \u001b[0;34m\u001b[0m\u001b[0m\n\u001b[1;32m    169\u001b[0m         \u001b[0;32mreturn\u001b[0m \u001b[0mWorkflowResults\u001b[0m\u001b[0;34m(\u001b[0m\u001b[0mintermediate_results\u001b[0m\u001b[0;34m)\u001b[0m\u001b[0;34m\u001b[0m\u001b[0m\n",
      "\u001b[0;32m~/anaconda/envs/data-x/lib/python3.6/site-packages/eolearn/core/eoworkflow.py\u001b[0m in \u001b[0;36m_execute_tasks\u001b[0;34m(self, input_args, out_degs, monitor)\u001b[0m\n\u001b[1;32m    188\u001b[0m                                         \u001b[0minput_args\u001b[0m\u001b[0;34m=\u001b[0m\u001b[0minput_args\u001b[0m\u001b[0;34m,\u001b[0m\u001b[0;34m\u001b[0m\u001b[0m\n\u001b[1;32m    189\u001b[0m                                         \u001b[0mintermediate_results\u001b[0m\u001b[0;34m=\u001b[0m\u001b[0mintermediate_results\u001b[0m\u001b[0;34m,\u001b[0m\u001b[0;34m\u001b[0m\u001b[0m\n\u001b[0;32m--> 190\u001b[0;31m                                         monitor=monitor)\n\u001b[0m\u001b[1;32m    191\u001b[0m \u001b[0;34m\u001b[0m\u001b[0m\n\u001b[1;32m    192\u001b[0m             \u001b[0mintermediate_results\u001b[0m\u001b[0;34m[\u001b[0m\u001b[0mdep\u001b[0m\u001b[0;34m]\u001b[0m \u001b[0;34m=\u001b[0m \u001b[0mresult\u001b[0m\u001b[0;34m\u001b[0m\u001b[0m\n",
      "\u001b[0;32m~/anaconda/envs/data-x/lib/python3.6/site-packages/eolearn/core/eoworkflow.py\u001b[0m in \u001b[0;36m_execute_task\u001b[0;34m(self, dependency, input_args, intermediate_results, monitor)\u001b[0m\n\u001b[1;32m    215\u001b[0m         \u001b[0minputs\u001b[0m \u001b[0;34m=\u001b[0m \u001b[0mtuple\u001b[0m\u001b[0;34m(\u001b[0m\u001b[0mintermediate_results\u001b[0m\u001b[0;34m[\u001b[0m\u001b[0mself\u001b[0m\u001b[0;34m.\u001b[0m\u001b[0muuid_dict\u001b[0m\u001b[0;34m[\u001b[0m\u001b[0minput_task\u001b[0m\u001b[0;34m.\u001b[0m\u001b[0muuid\u001b[0m\u001b[0;34m]\u001b[0m\u001b[0;34m]\u001b[0m \u001b[0;32mfor\u001b[0m \u001b[0minput_task\u001b[0m \u001b[0;32min\u001b[0m \u001b[0mdependency\u001b[0m\u001b[0;34m.\u001b[0m\u001b[0minputs\u001b[0m\u001b[0;34m)\u001b[0m\u001b[0;34m\u001b[0m\u001b[0m\n\u001b[1;32m    216\u001b[0m         \u001b[0mLOGGER\u001b[0m\u001b[0;34m.\u001b[0m\u001b[0mdebug\u001b[0m\u001b[0;34m(\u001b[0m\u001b[0;34m\"Computing %s(*%s, **%s)\"\u001b[0m\u001b[0;34m,\u001b[0m \u001b[0mstr\u001b[0m\u001b[0;34m(\u001b[0m\u001b[0mtask\u001b[0m\u001b[0;34m)\u001b[0m\u001b[0;34m,\u001b[0m \u001b[0mstr\u001b[0m\u001b[0;34m(\u001b[0m\u001b[0minputs\u001b[0m\u001b[0;34m)\u001b[0m\u001b[0;34m,\u001b[0m \u001b[0mstr\u001b[0m\u001b[0;34m(\u001b[0m\u001b[0mkw_inputs\u001b[0m\u001b[0;34m)\u001b[0m\u001b[0;34m)\u001b[0m\u001b[0;34m\u001b[0m\u001b[0m\n\u001b[0;32m--> 217\u001b[0;31m         \u001b[0;32mreturn\u001b[0m \u001b[0mtask\u001b[0m\u001b[0;34m(\u001b[0m\u001b[0;34m*\u001b[0m\u001b[0minputs\u001b[0m\u001b[0;34m,\u001b[0m \u001b[0;34m**\u001b[0m\u001b[0mkw_inputs\u001b[0m\u001b[0;34m,\u001b[0m \u001b[0mmonitor\u001b[0m\u001b[0;34m=\u001b[0m\u001b[0mmonitor\u001b[0m\u001b[0;34m)\u001b[0m\u001b[0;34m\u001b[0m\u001b[0m\n\u001b[0m\u001b[1;32m    218\u001b[0m \u001b[0;34m\u001b[0m\u001b[0m\n\u001b[1;32m    219\u001b[0m     \u001b[0;32mdef\u001b[0m \u001b[0m_relax_dependencies\u001b[0m\u001b[0;34m(\u001b[0m\u001b[0mself\u001b[0m\u001b[0;34m,\u001b[0m \u001b[0;34m*\u001b[0m\u001b[0;34m,\u001b[0m \u001b[0mdependency\u001b[0m\u001b[0;34m,\u001b[0m \u001b[0mout_degrees\u001b[0m\u001b[0;34m,\u001b[0m \u001b[0mintermediate_results\u001b[0m\u001b[0;34m)\u001b[0m\u001b[0;34m:\u001b[0m\u001b[0;34m\u001b[0m\u001b[0m\n",
      "\u001b[0;32m~/anaconda/envs/data-x/lib/python3.6/site-packages/eolearn/core/eotask.py\u001b[0m in \u001b[0;36m__call__\u001b[0;34m(self, monitor, *eopatches, **kwargs)\u001b[0m\n\u001b[1;32m     47\u001b[0m             \u001b[0;32mreturn\u001b[0m \u001b[0mself\u001b[0m\u001b[0;34m.\u001b[0m\u001b[0mexecute_and_monitor\u001b[0m\u001b[0;34m(\u001b[0m\u001b[0;34m*\u001b[0m\u001b[0meopatches\u001b[0m\u001b[0;34m,\u001b[0m \u001b[0;34m**\u001b[0m\u001b[0mkwargs\u001b[0m\u001b[0;34m)\u001b[0m\u001b[0;34m\u001b[0m\u001b[0m\n\u001b[1;32m     48\u001b[0m \u001b[0;34m\u001b[0m\u001b[0m\n\u001b[0;32m---> 49\u001b[0;31m         \u001b[0;32mreturn\u001b[0m \u001b[0mself\u001b[0m\u001b[0;34m.\u001b[0m\u001b[0mexecute\u001b[0m\u001b[0;34m(\u001b[0m\u001b[0;34m*\u001b[0m\u001b[0meopatches\u001b[0m\u001b[0;34m,\u001b[0m \u001b[0;34m**\u001b[0m\u001b[0mkwargs\u001b[0m\u001b[0;34m)\u001b[0m\u001b[0;34m\u001b[0m\u001b[0m\n\u001b[0m\u001b[1;32m     50\u001b[0m \u001b[0;34m\u001b[0m\u001b[0m\n\u001b[1;32m     51\u001b[0m     \u001b[0;34m@\u001b[0m\u001b[0mstaticmethod\u001b[0m\u001b[0;34m\u001b[0m\u001b[0m\n",
      "\u001b[0;32m~/anaconda/envs/data-x/lib/python3.6/site-packages/eolearn/io/sentinelhub_service.py\u001b[0m in \u001b[0;36mexecute\u001b[0;34m(self, eopatch, bbox, time_interval)\u001b[0m\n\u001b[1;32m    221\u001b[0m                                'due to unavailability of %s!', str(removed_frame), self.layer)\n\u001b[1;32m    222\u001b[0m \u001b[0;34m\u001b[0m\u001b[0m\n\u001b[0;32m--> 223\u001b[0;31m         \u001b[0mself\u001b[0m\u001b[0;34m.\u001b[0m\u001b[0m_add_data\u001b[0m\u001b[0;34m(\u001b[0m\u001b[0meopatch\u001b[0m\u001b[0;34m,\u001b[0m \u001b[0mnp\u001b[0m\u001b[0;34m.\u001b[0m\u001b[0masarray\u001b[0m\u001b[0;34m(\u001b[0m\u001b[0mimages\u001b[0m\u001b[0;34m)\u001b[0m\u001b[0;34m)\u001b[0m\u001b[0;34m\u001b[0m\u001b[0m\n\u001b[0m\u001b[1;32m    224\u001b[0m         \u001b[0mself\u001b[0m\u001b[0;34m.\u001b[0m\u001b[0m_add_meta_info\u001b[0m\u001b[0;34m(\u001b[0m\u001b[0meopatch\u001b[0m\u001b[0;34m,\u001b[0m \u001b[0mrequest_params\u001b[0m\u001b[0;34m,\u001b[0m \u001b[0mservice_type\u001b[0m\u001b[0;34m)\u001b[0m\u001b[0;34m\u001b[0m\u001b[0m\n\u001b[1;32m    225\u001b[0m         \u001b[0;32mreturn\u001b[0m \u001b[0meopatch\u001b[0m\u001b[0;34m\u001b[0m\u001b[0m\n",
      "\u001b[0;32m~/anaconda/envs/data-x/lib/python3.6/site-packages/eolearn/io/sentinelhub_service.py\u001b[0m in \u001b[0;36m_add_data\u001b[0;34m(self, eopatch, data)\u001b[0m\n\u001b[1;32m    131\u001b[0m     \u001b[0;32mdef\u001b[0m \u001b[0m_add_data\u001b[0m\u001b[0;34m(\u001b[0m\u001b[0mself\u001b[0m\u001b[0;34m,\u001b[0m \u001b[0meopatch\u001b[0m\u001b[0;34m,\u001b[0m \u001b[0mdata\u001b[0m\u001b[0;34m)\u001b[0m\u001b[0;34m:\u001b[0m\u001b[0;34m\u001b[0m\u001b[0m\n\u001b[1;32m    132\u001b[0m         \u001b[0;34m\"\"\" Adds downloaded data to EOPatch \"\"\"\u001b[0m\u001b[0;34m\u001b[0m\u001b[0m\n\u001b[0;32m--> 133\u001b[0;31m         \u001b[0mvalid_mask\u001b[0m \u001b[0;34m=\u001b[0m \u001b[0mdata\u001b[0m\u001b[0;34m[\u001b[0m\u001b[0;34m...\u001b[0m\u001b[0;34m,\u001b[0m \u001b[0;34m-\u001b[0m\u001b[0;36m1\u001b[0m\u001b[0;34m]\u001b[0m\u001b[0;34m\u001b[0m\u001b[0m\n\u001b[0m\u001b[1;32m    134\u001b[0m         \u001b[0mdata\u001b[0m \u001b[0;34m=\u001b[0m \u001b[0mdata\u001b[0m\u001b[0;34m[\u001b[0m\u001b[0;34m...\u001b[0m\u001b[0;34m,\u001b[0m \u001b[0;34m:\u001b[0m\u001b[0;34m-\u001b[0m\u001b[0;36m1\u001b[0m\u001b[0;34m]\u001b[0m\u001b[0;34m\u001b[0m\u001b[0m\n\u001b[1;32m    135\u001b[0m \u001b[0;34m\u001b[0m\u001b[0m\n",
      "\u001b[0;31mIndexError\u001b[0m: index -1 is out of bounds for axis 0 with size 0"
     ]
    }
   ],
   "source": [
    "result = workflow.execute({input_task:{'bbox':bbox, 'time_interval':time_interval},\n",
    "                          })"
   ]
  },
  {
   "cell_type": "code",
   "execution_count": null,
   "metadata": {
    "collapsed": true
   },
   "outputs": [],
   "source": [
    "patch=list(result.values())[-1]"
   ]
  },
  {
   "cell_type": "markdown",
   "metadata": {},
   "source": [
    "Print content of eopatch at the end of the workflow execution"
   ]
  },
  {
   "cell_type": "code",
   "execution_count": null,
   "metadata": {
    "collapsed": false
   },
   "outputs": [],
   "source": [
    "patch"
   ]
  },
  {
   "cell_type": "markdown",
   "metadata": {},
   "source": [
    "# Plot results"
   ]
  },
  {
   "cell_type": "code",
   "execution_count": null,
   "metadata": {
    "collapsed": true
   },
   "outputs": [],
   "source": [
    "from skimage.filters import sobel\n",
    "from skimage.morphology import disk\n",
    "from skimage.morphology import erosion, dilation, opening, closing, white_tophat"
   ]
  },
  {
   "cell_type": "code",
   "execution_count": null,
   "metadata": {
    "collapsed": true
   },
   "outputs": [],
   "source": [
    "def plot_rgb_w_water(eopatch, idx):\n",
    "    ratio = np.abs(eopatch.bbox.max_x - eopatch.bbox.min_x)/np.abs(eopatch.bbox.max_y - eopatch.bbox.min_y)\n",
    "    fig, ax = plt.subplots(figsize=(ratio*10,10))\n",
    "    \n",
    "    ax.imshow(eopatch.data['TRUE-COLOR-S2-L1C'][idx])\n",
    "    \n",
    "    observed = closing(eopatch.mask['WATER_MASK'][idx,...,0], disk(1))\n",
    "    nominal = sobel(eopatch.mask_timeless['NOMINAL_WATER'][...,0])\n",
    "    observed = sobel(observed)\n",
    "    nominal = np.ma.masked_where(nominal == False, nominal)\n",
    "    observed = np.ma.masked_where(observed == False, observed)\n",
    "    \n",
    "    ax.imshow(nominal,cmap=plt.cm.Reds)\n",
    "    ax.imshow(observed,cmap=plt.cm.Blues)\n",
    "    ax.axis('off')"
   ]
  },
  {
   "cell_type": "code",
   "execution_count": null,
   "metadata": {
    "collapsed": false
   },
   "outputs": [],
   "source": [
    "plot_rgb_w_water(patch, 0)"
   ]
  },
  {
   "cell_type": "code",
   "execution_count": null,
   "metadata": {
    "collapsed": false
   },
   "outputs": [],
   "source": [
    "plot_rgb_w_water(patch, -1)"
   ]
  },
  {
   "cell_type": "code",
   "execution_count": null,
   "metadata": {
    "collapsed": true
   },
   "outputs": [],
   "source": [
    "def plot_water_levels(eopatch, max_coverage=1.0):\n",
    "    fig, ax = plt.subplots(figsize=(20,7))\n",
    "\n",
    "    dates = np.asarray(eopatch.timestamp)\n",
    "    ax.plot(dates[eopatch.scalar['COVERAGE'][...,0]<max_coverage],\n",
    "            eopatch.scalar['WATER_LEVEL'][eopatch.scalar['COVERAGE'][...,0]<max_coverage],\n",
    "            'bo-',alpha=0.7)\n",
    "    ax.plot(dates[eopatch.scalar['COVERAGE'][...,0]<max_coverage],\n",
    "            eopatch.scalar['COVERAGE'][eopatch.scalar['COVERAGE'][...,0]<max_coverage],\n",
    "            '--',color='gray',alpha=0.7)\n",
    "    ax.set_ylim(0.0,1.1)\n",
    "    ax.set_xlabel('Date')\n",
    "    ax.set_ylabel('Water level')\n",
    "    ax.set_title('Theewaterskloof Dam Water Levels')\n",
    "    ax.grid(axis='y')\n",
    "    return ax"
   ]
  },
  {
   "cell_type": "code",
   "execution_count": null,
   "metadata": {
    "collapsed": false
   },
   "outputs": [],
   "source": [
    "ax = plot_water_levels(patch, 1.0)"
   ]
  },
  {
   "cell_type": "markdown",
   "metadata": {},
   "source": [
    "One observation at the end of 2017 sticks out. Let's visualise it."
   ]
  },
  {
   "cell_type": "code",
   "execution_count": null,
   "metadata": {
    "collapsed": true
   },
   "outputs": [],
   "source": [
    "idx = np.where(patch.scalar['WATER_LEVEL']>0.8)[0][0]"
   ]
  },
  {
   "cell_type": "code",
   "execution_count": null,
   "metadata": {
    "collapsed": false
   },
   "outputs": [],
   "source": [
    "plot_rgb_w_water(patch, idx)"
   ]
  },
  {
   "cell_type": "markdown",
   "metadata": {},
   "source": [
    "As can be seen the image from this date is covered with clouds, which interfer with water detection algorithms. \n",
    "Let's filter the cloudy scene out and plot only water levels for observations with cloud coverage below 2%."
   ]
  },
  {
   "cell_type": "code",
   "execution_count": null,
   "metadata": {
    "collapsed": false
   },
   "outputs": [],
   "source": [
    "ax = plot_water_levels(patch, 0.02)"
   ]
  },
  {
   "cell_type": "code",
   "execution_count": null,
   "metadata": {
    "collapsed": true
   },
   "outputs": [],
   "source": []
  }
 ],
 "metadata": {
  "kernelspec": {
   "display_name": "Python [data-x]",
   "language": "python",
   "name": "Python [data-x]"
  },
  "language_info": {
   "codemirror_mode": {
    "name": "ipython",
    "version": 3
   },
   "file_extension": ".py",
   "mimetype": "text/x-python",
   "name": "python",
   "nbconvert_exporter": "python",
   "pygments_lexer": "ipython3",
   "version": "3.6.5"
  }
 },
 "nbformat": 4,
 "nbformat_minor": 2
}
