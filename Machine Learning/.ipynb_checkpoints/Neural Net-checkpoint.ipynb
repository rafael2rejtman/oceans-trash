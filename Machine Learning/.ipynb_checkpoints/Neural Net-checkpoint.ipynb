{
 "cells": [
  {
   "cell_type": "markdown",
   "metadata": {},
   "source": [
    "![](http://i67.tinypic.com/2jcbwcw.png)\n",
    "\n",
    "# Project Ocean Trash\n",
    "\n",
    "## Neural Network of Marine Debris data"
   ]
  },
  {
   "cell_type": "markdown",
   "metadata": {},
   "source": [
    "**Author:** Jan Xu\n",
    "\n",
    "**Date:** Dec 1 2018"
   ]
  },
  {
   "cell_type": "markdown",
   "metadata": {},
   "source": [
    "### Import modules and visualization packages"
   ]
  },
  {
   "cell_type": "code",
   "execution_count": 33,
   "metadata": {},
   "outputs": [],
   "source": [
    "# Suppress TensorFlow and Keras warnings for cleaner output\n",
    "import warnings\n",
    "warnings.simplefilter(\"ignore\")\n",
    "\n",
    "import numpy as np\n",
    "import pandas as pd\n",
    "import matplotlib.pyplot as plt\n",
    "import tensorflow as tf\n",
    "import keras\n",
    "\n",
    "from sklearn import datasets\n",
    "from sklearn.model_selection import train_test_split\n",
    "\n",
    "from keras.models import Sequential\n",
    "from keras.layers import Dense\n",
    "from keras.layers import BatchNormalization\n",
    "from keras.layers import Dropout\n",
    "\n",
    "%matplotlib inline"
   ]
  },
  {
   "cell_type": "code",
   "execution_count": 15,
   "metadata": {},
   "outputs": [
    {
     "data": {
      "text/html": [
       "<div>\n",
       "<style scoped>\n",
       "    .dataframe tbody tr th:only-of-type {\n",
       "        vertical-align: middle;\n",
       "    }\n",
       "\n",
       "    .dataframe tbody tr th {\n",
       "        vertical-align: top;\n",
       "    }\n",
       "\n",
       "    .dataframe thead th {\n",
       "        text-align: right;\n",
       "    }\n",
       "</style>\n",
       "<table border=\"1\" class=\"dataframe\">\n",
       "  <thead>\n",
       "    <tr style=\"text-align: right;\">\n",
       "      <th></th>\n",
       "      <th>Date</th>\n",
       "      <th>X</th>\n",
       "      <th>Y</th>\n",
       "      <th>Debris</th>\n",
       "    </tr>\n",
       "  </thead>\n",
       "  <tbody>\n",
       "    <tr>\n",
       "      <th>0</th>\n",
       "      <td>07/07/2012</td>\n",
       "      <td>-124.566667</td>\n",
       "      <td>48.383333</td>\n",
       "      <td>0</td>\n",
       "    </tr>\n",
       "    <tr>\n",
       "      <th>1</th>\n",
       "      <td>07/07/2012</td>\n",
       "      <td>-124.016667</td>\n",
       "      <td>48.283333</td>\n",
       "      <td>0</td>\n",
       "    </tr>\n",
       "    <tr>\n",
       "      <th>2</th>\n",
       "      <td>07/07/2012</td>\n",
       "      <td>-124.033333</td>\n",
       "      <td>48.316667</td>\n",
       "      <td>0</td>\n",
       "    </tr>\n",
       "    <tr>\n",
       "      <th>3</th>\n",
       "      <td>07/07/2012</td>\n",
       "      <td>-124.350000</td>\n",
       "      <td>48.300000</td>\n",
       "      <td>1</td>\n",
       "    </tr>\n",
       "    <tr>\n",
       "      <th>4</th>\n",
       "      <td>07/07/2012</td>\n",
       "      <td>-126.183333</td>\n",
       "      <td>44.900000</td>\n",
       "      <td>1</td>\n",
       "    </tr>\n",
       "  </tbody>\n",
       "</table>\n",
       "</div>"
      ],
      "text/plain": [
       "         Date           X          Y  Debris\n",
       "0  07/07/2012 -124.566667  48.383333       0\n",
       "1  07/07/2012 -124.016667  48.283333       0\n",
       "2  07/07/2012 -124.033333  48.316667       0\n",
       "3  07/07/2012 -124.350000  48.300000       1\n",
       "4  07/07/2012 -126.183333  44.900000       1"
      ]
     },
     "execution_count": 15,
     "metadata": {},
     "output_type": "execute_result"
    }
   ],
   "source": [
    "dataclass = pd.read_csv(\"Datasets/dataclass.csv\")\n",
    "dataclass.head()"
   ]
  },
  {
   "cell_type": "code",
   "execution_count": 16,
   "metadata": {},
   "outputs": [
    {
     "name": "stdout",
     "output_type": "stream",
     "text": [
      "(962, 2)\n",
      "(962,)\n"
     ]
    }
   ],
   "source": [
    "x = dataclass[['X', 'Y']].values\n",
    "y = dataclass['Debris'].values\n",
    "print(x.shape)\n",
    "print(y.shape)"
   ]
  },
  {
   "cell_type": "code",
   "execution_count": 17,
   "metadata": {},
   "outputs": [
    {
     "data": {
      "text/plain": [
       "array([[1, 0],\n",
       "       [1, 0],\n",
       "       [1, 0],\n",
       "       [0, 1],\n",
       "       [0, 1]], dtype=uint8)"
      ]
     },
     "execution_count": 17,
     "metadata": {},
     "output_type": "execute_result"
    }
   ],
   "source": [
    "y = pd.get_dummies(y).values\n",
    "y[:5,:]"
   ]
  },
  {
   "cell_type": "code",
   "execution_count": 18,
   "metadata": {},
   "outputs": [],
   "source": [
    "# train test split\n",
    "X_train, X_test, y_train, y_test = train_test_split(x, \n",
    "                                                    y, test_size=0.1,\n",
    "                                                    random_state=1,\n",
    "                                                    shuffle=True)"
   ]
  },
  {
   "cell_type": "code",
   "execution_count": 19,
   "metadata": {},
   "outputs": [
    {
     "name": "stdout",
     "output_type": "stream",
     "text": [
      "(865, 2)\n",
      "(865, 2)\n",
      "(97, 2)\n"
     ]
    }
   ],
   "source": [
    "print(X_train.shape)\n",
    "print(y_train.shape)\n",
    "print(X_test.shape)"
   ]
  },
  {
   "cell_type": "code",
   "execution_count": 20,
   "metadata": {},
   "outputs": [
    {
     "name": "stdout",
     "output_type": "stream",
     "text": [
      "Baseline accuracy: 74.42827442827443 %\n"
     ]
    }
   ],
   "source": [
    "baseline = len(dataclass[dataclass['Debris'] != 0]) / len(dataclass)\n",
    "print('Baseline accuracy:', baseline*100, '%')"
   ]
  },
  {
   "cell_type": "markdown",
   "metadata": {},
   "source": [
    "### Sequential model"
   ]
  },
  {
   "cell_type": "code",
   "execution_count": 38,
   "metadata": {},
   "outputs": [],
   "source": [
    "# model initialization\n",
    "model = Sequential() # instantiate empty Sequential model\n",
    "\n",
    "# model contruction (architecture build computational graph)\n",
    "model.add(Dense(units=100, activation='sigmoid'))\n",
    "model.add(Dropout(0.2))\n",
    "model.add(BatchNormalization())\n",
    "model.add(Dense(units=25, activation='sigmoid'))\n",
    "model.add(Dropout(0.2))\n",
    "model.add(BatchNormalization())\n",
    "model.add(Dense(units=10, activation='sigmoid'))\n",
    "model.add(Dropout(0.2))\n",
    "model.add(BatchNormalization())\n",
    "model.add(Dense(units=2, activation='sigmoid'))\n",
    "\n",
    "# model compilation\n",
    "model.compile(loss = 'categorical_crossentropy',\n",
    "             optimizer = 'adam',\n",
    "             metrics = ['accuracy'])"
   ]
  },
  {
   "cell_type": "code",
   "execution_count": 39,
   "metadata": {},
   "outputs": [
    {
     "name": "stdout",
     "output_type": "stream",
     "text": [
      "Epoch 1/50\n",
      "865/865 [==============================] - 5s 5ms/step - loss: 0.7369 - acc: 0.5318\n",
      "Epoch 2/50\n",
      "865/865 [==============================] - 1s 744us/step - loss: 0.6715 - acc: 0.5965\n",
      "Epoch 3/50\n",
      "865/865 [==============================] - 1s 715us/step - loss: 0.6135 - acc: 0.6578\n",
      "Epoch 4/50\n",
      "865/865 [==============================] - 1s 760us/step - loss: 0.6225 - acc: 0.6578\n",
      "Epoch 5/50\n",
      "865/865 [==============================] - 1s 760us/step - loss: 0.5877 - acc: 0.7249\n",
      "Epoch 6/50\n",
      "865/865 [==============================] - 1s 748us/step - loss: 0.5704 - acc: 0.7341\n",
      "Epoch 7/50\n",
      "865/865 [==============================] - 1s 783us/step - loss: 0.5731 - acc: 0.7387\n",
      "Epoch 8/50\n",
      "865/865 [==============================] - 1s 805us/step - loss: 0.5460 - acc: 0.7480\n",
      "Epoch 9/50\n",
      "865/865 [==============================] - 1s 792us/step - loss: 0.5753 - acc: 0.7445\n",
      "Epoch 10/50\n",
      "865/865 [==============================] - 1s 791us/step - loss: 0.5544 - acc: 0.7399\n",
      "Epoch 11/50\n",
      "865/865 [==============================] - 1s 758us/step - loss: 0.5484 - acc: 0.7468\n",
      "Epoch 12/50\n",
      "865/865 [==============================] - 1s 793us/step - loss: 0.5541 - acc: 0.7457\n",
      "Epoch 13/50\n",
      "865/865 [==============================] - 1s 911us/step - loss: 0.5497 - acc: 0.7572\n",
      "Epoch 14/50\n",
      "865/865 [==============================] - 1s 900us/step - loss: 0.5556 - acc: 0.7410\n",
      "Epoch 15/50\n",
      "865/865 [==============================] - 1s 828us/step - loss: 0.5453 - acc: 0.7538\n",
      "Epoch 16/50\n",
      "865/865 [==============================] - 1s 878us/step - loss: 0.5497 - acc: 0.7595\n",
      "Epoch 17/50\n",
      "865/865 [==============================] - 1s 880us/step - loss: 0.5505 - acc: 0.7526\n",
      "Epoch 18/50\n",
      "865/865 [==============================] - 1s 819us/step - loss: 0.5442 - acc: 0.7526\n",
      "Epoch 19/50\n",
      "865/865 [==============================] - 1s 818us/step - loss: 0.5377 - acc: 0.7514\n",
      "Epoch 20/50\n",
      "865/865 [==============================] - 1s 906us/step - loss: 0.5337 - acc: 0.7607\n",
      "Epoch 21/50\n",
      "865/865 [==============================] - 1s 893us/step - loss: 0.5411 - acc: 0.7561\n",
      "Epoch 22/50\n",
      "865/865 [==============================] - 1s 850us/step - loss: 0.5372 - acc: 0.7618\n",
      "Epoch 23/50\n",
      "865/865 [==============================] - 1s 826us/step - loss: 0.5261 - acc: 0.7618\n",
      "Epoch 24/50\n",
      "865/865 [==============================] - 1s 904us/step - loss: 0.5270 - acc: 0.7595\n",
      "Epoch 25/50\n",
      "865/865 [==============================] - 1s 871us/step - loss: 0.5310 - acc: 0.7630\n",
      "Epoch 26/50\n",
      "865/865 [==============================] - 1s 873us/step - loss: 0.5321 - acc: 0.7607\n",
      "Epoch 27/50\n",
      "865/865 [==============================] - 1s 868us/step - loss: 0.5271 - acc: 0.7584\n",
      "Epoch 28/50\n",
      "865/865 [==============================] - 1s 797us/step - loss: 0.5358 - acc: 0.7514\n",
      "Epoch 29/50\n",
      "865/865 [==============================] - 1s 837us/step - loss: 0.5394 - acc: 0.7549\n",
      "Epoch 30/50\n",
      "865/865 [==============================] - 1s 831us/step - loss: 0.5331 - acc: 0.7503\n",
      "Epoch 31/50\n",
      "865/865 [==============================] - 1s 902us/step - loss: 0.5250 - acc: 0.7642\n",
      "Epoch 32/50\n",
      "865/865 [==============================] - 1s 824us/step - loss: 0.5378 - acc: 0.7584\n",
      "Epoch 33/50\n",
      "865/865 [==============================] - 1s 889us/step - loss: 0.5340 - acc: 0.7584\n",
      "Epoch 34/50\n",
      "865/865 [==============================] - 1s 804us/step - loss: 0.5278 - acc: 0.7688\n",
      "Epoch 35/50\n",
      "865/865 [==============================] - 1s 857us/step - loss: 0.5389 - acc: 0.7549\n",
      "Epoch 36/50\n",
      "865/865 [==============================] - 1s 809us/step - loss: 0.5355 - acc: 0.7607\n",
      "Epoch 37/50\n",
      "865/865 [==============================] - 1s 808us/step - loss: 0.5373 - acc: 0.7538\n",
      "Epoch 38/50\n",
      "865/865 [==============================] - 1s 885us/step - loss: 0.5232 - acc: 0.7572\n",
      "Epoch 39/50\n",
      "865/865 [==============================] - 1s 820us/step - loss: 0.5413 - acc: 0.7491\n",
      "Epoch 40/50\n",
      "865/865 [==============================] - 1s 879us/step - loss: 0.5269 - acc: 0.7503\n",
      "Epoch 41/50\n",
      "865/865 [==============================] - 1s 857us/step - loss: 0.5289 - acc: 0.7584\n",
      "Epoch 42/50\n",
      "865/865 [==============================] - 1s 799us/step - loss: 0.5349 - acc: 0.7595\n",
      "Epoch 43/50\n",
      "865/865 [==============================] - 1s 809us/step - loss: 0.5234 - acc: 0.7584\n",
      "Epoch 44/50\n",
      "865/865 [==============================] - 1s 789us/step - loss: 0.5382 - acc: 0.7572\n",
      "Epoch 45/50\n",
      "865/865 [==============================] - 1s 843us/step - loss: 0.5333 - acc: 0.7642\n",
      "Epoch 46/50\n",
      "865/865 [==============================] - 1s 817us/step - loss: 0.5294 - acc: 0.7653\n",
      "Epoch 47/50\n",
      "865/865 [==============================] - 1s 816us/step - loss: 0.5289 - acc: 0.7526\n",
      "Epoch 48/50\n",
      "865/865 [==============================] - 1s 905us/step - loss: 0.5295 - acc: 0.7549\n",
      "Epoch 49/50\n",
      "865/865 [==============================] - 1s 808us/step - loss: 0.5227 - acc: 0.7549\n",
      "Epoch 50/50\n",
      "865/865 [==============================] - 1s 868us/step - loss: 0.5287 - acc: 0.7549\n"
     ]
    }
   ],
   "source": [
    "# Fit the model by iterating over the training data in batches\n",
    "\n",
    "history = model.fit(X_train, y_train, epochs = 50, batch_size= 8)"
   ]
  },
  {
   "cell_type": "code",
   "execution_count": 40,
   "metadata": {},
   "outputs": [
    {
     "name": "stdout",
     "output_type": "stream",
     "text": [
      "Test loss: 0.5028717020343494\n",
      "Test accuracy: 0.784971098265896\n"
     ]
    }
   ],
   "source": [
    "score = model.evaluate(X_train, y_train, verbose=0)\n",
    "print('Test loss:', score[0])\n",
    "print('Test accuracy:', score[1])"
   ]
  },
  {
   "cell_type": "code",
   "execution_count": 41,
   "metadata": {},
   "outputs": [
    {
     "name": "stdout",
     "output_type": "stream",
     "text": [
      "Test loss: 0.5294505652693129\n",
      "Test accuracy: 0.7731958762886598\n"
     ]
    }
   ],
   "source": [
    "score = model.evaluate(X_test, y_test, verbose=0)\n",
    "print('Test loss:', score[0])\n",
    "print('Test accuracy:', score[1])"
   ]
  },
  {
   "cell_type": "code",
   "execution_count": 42,
   "metadata": {},
   "outputs": [
    {
     "data": {
      "image/png": "[encoded data removed]",
      "text/plain": [
       "<Figure size 432x288 with 1 Axes>"
      ]
     },
     "metadata": {},
     "output_type": "display_data"
    }
   ],
   "source": [
    "plt.plot(range(50), history.history['acc'])\n",
    "plt.title('accuracy per iteration')\n",
    "plt.grid();"
   ]
  },
  {
   "cell_type": "code",
   "execution_count": null,
   "metadata": {},
   "outputs": [],
   "source": []
  }
 ],
 "metadata": {
  "kernelspec": {
   "display_name": "Python 3",
   "language": "python",
   "name": "python3"
  },
  "language_info": {
   "codemirror_mode": {
    "name": "ipython",
    "version": 3
   },
   "file_extension": ".py",
   "mimetype": "text/x-python",
   "name": "python",
   "nbconvert_exporter": "python",
   "pygments_lexer": "ipython3",
   "version": "3.6.5"
  }
 },
 "nbformat": 4,
 "nbformat_minor": 2
}
